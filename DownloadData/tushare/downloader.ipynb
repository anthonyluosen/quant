{
 "cells": [
  {
   "cell_type": "code",
   "execution_count": null,
   "metadata": {},
   "outputs": [],
   "source": [
    "import pandas as pd\n",
    "from tqdm  import tqdm\n",
    "import time\n",
    "import json\n",
    "import tushare as ts\n",
    "ts.set_token('your token')\n"
   ]
  },
  {
   "cell_type": "code",
   "execution_count": null,
   "metadata": {},
   "outputs": [],
   "source": [
    "import datetime\n",
    " \n",
    "'''获取指定日期范围所有日期列表'''\n",
    "def date_range(beginDate, endDate):\n",
    "    dates = []\n",
    "    dt = datetime.datetime.strptime(beginDate, \"%Y-%m-%d\")\n",
    "    date = beginDate[:]\n",
    "    while date <= endDate:\n",
    "        dates.append(date)\n",
    "        dt = dt + datetime.timedelta(1)\n",
    "        date = dt.strftime(\"%Y-%m-%d\")\n",
    "    return dates\n",
    " \n",
    "date_list=date_range(\"2020-12-15\",\"2022-5-12\")"
   ]
  },
  {
   "cell_type": "markdown",
   "metadata": {},
   "source": [
    "## download sina daily sina news"
   ]
  },
  {
   "cell_type": "code",
   "execution_count": null,
   "metadata": {},
   "outputs": [],
   "source": [
    "a = []\n",
    "for i in range(7,24):\n",
    "    b = f'{i}'\n",
    "    if len(b) ==1:\n",
    "        b = '0'+b\n",
    "    a.append(f'{b}:00:00')\n",
    "for date in tqdm(date_list):\n",
    "    store = []\n",
    "    for index,hour in enumerate(a[1:]):\n",
    "        start = f'{date} {a[index]}'\n",
    "        end = f'{date} {hour}'\n",
    "        pro = ts.pro_api()\n",
    "        # # df = pro.news(src='sina', start_date='2011-11-21 09:00:00', end_date='2022-5-11 10:10:00')\n",
    "        df = pro.news(src='sina', start_date=start,end_date = end)\n",
    "        store.append(df)\n",
    "        time.sleep(1)\n",
    "    all = pd.concat(store,axis=0)\n",
    "    all.to_csv(f'./sina_news/{date}.csv')"
   ]
  },
  {
   "cell_type": "markdown",
   "metadata": {},
   "source": [
    "## CCTV News"
   ]
  },
  {
   "cell_type": "code",
   "execution_count": null,
   "metadata": {},
   "outputs": [],
   "source": [
    "pro = ts.pro_api()\n",
    "error = []\n",
    "for i in tqdm(date_list[-3000:-1000]):\n",
    "    time.sleep(1)\n",
    "    try:\n",
    "        pro = ts.pro_api()\n",
    "        df = pro.cctv_news(date=i)\n",
    "        df.to_csv(f'./china_news/{i}.csv',index = None)\n",
    "    except:\n",
    "        error.append(i)\n",
    "        print('error occure')"
   ]
  },
  {
   "cell_type": "markdown",
   "metadata": {},
   "source": [
    "## stock report"
   ]
  },
  {
   "cell_type": "code",
   "execution_count": null,
   "metadata": {},
   "outputs": [],
   "source": [
    "with open('500stock.txt','r') as f:\n",
    "    stock = json.load(f)\n",
    "ts.set_token('08cdba72469ce5ef4afd2cb5946749312d874c2aaef8ed9e176fa1a6')\n",
    "pro = ts.pro_api()\n",
    "df = pro.anns(ts_code=a[1], start_date='20190401', end_date='20190509')\n",
    "\n",
    "for name in tqdm(list(stock.keys())[274+179+19:]):\n",
    "    store = []\n",
    "    start_date = stock[name]\n",
    "    date_list=date_range(start_date,\"20220512\")\n",
    "    time.sleep(8)\n",
    "    for i in range(80,len(date_list),80):\n",
    "        start = date_list[i-80]\n",
    "        end = date_list[i]\n",
    "        df = pro.anns(ts_code=name, start_date=start, end_date=end)\n",
    "        store.append(df)\n",
    "    if end != date_list[-1]:\n",
    "        start = end\n",
    "        end = date_list[-1]\n",
    "        df = pro.anns(ts_code=name, start_date=start, end_date=end)\n",
    "        store.append(df)\n",
    "    final_df = pd.concat(store,axis=0)\n",
    "    final_df.to_csv(f'./report/{name}.csv',index=None)\n"
   ]
  },
  {
   "cell_type": "markdown",
   "metadata": {},
   "source": [
    "## downloader CYQ chip data"
   ]
  },
  {
   "cell_type": "code",
   "execution_count": null,
   "metadata": {},
   "outputs": [],
   "source": [
    "with open('500stock.txt','r') as f:\n",
    "    stock = json.load(f)"
   ]
  },
  {
   "cell_type": "code",
   "execution_count": null,
   "metadata": {},
   "outputs": [],
   "source": [
    "pro = ts.pro_api()\n",
    "# df = pro.cyq_chips(ts_code=, start_date='20220101', end_date='20220429')\n",
    "gap = 31\n",
    "error = []\n",
    "for name in tqdm(list(stock.keys())[32+74:]):\n",
    "    store = []\n",
    "    start_date = stock[name]\n",
    "    date_list=date_range(start_date,\"20220512\")\n",
    "    time.sleep(2)\n",
    "    try:\n",
    "        for i in range(gap,len(date_list),gap):\n",
    "            start = date_list[i-gap+1]\n",
    "            end = date_list[i]\n",
    "            df = pro.cyq_chips(ts_code=name, start_date=start, end_date=end)\n",
    "            store.append(df)\n",
    "        if end != date_list[-1]:\n",
    "            start = end\n",
    "            end = date_list[-1]\n",
    "            df = pro.cyq_chips(ts_code=name, start_date=start, end_date=end)\n",
    "            store.append(df)\n",
    "        final_df = pd.concat(store,axis=0)\n",
    "        final_df.to_csv(f'./CYQ_1/{name}.csv',index=None)\n",
    "    except:\n",
    "        error.append(name)\n",
    "        time.sleep(30)\n",
    "        print('error')"
   ]
  },
  {
   "cell_type": "code",
   "execution_count": null,
   "metadata": {},
   "outputs": [],
   "source": [
    "pro = ts.pro_api()\n",
    "# df = pro.cyq_chips(ts_code=, start_date='20220101', end_date='20220429')\n",
    "for name in tqdm(stock):\n",
    "    store = []\n",
    "    time.sleep(2)\n",
    "    start_date = stock[name]\n",
    "    df = pro.cyq_perf(ts_code=name, start_date='20051015', end_date='20220512')\n",
    "    store.append(df)\n",
    "    final_df = pd.concat(store,axis=0)\n",
    "    final_df.to_csv(f'./CYQ_2/{name}.csv',index=None)"
   ]
  }
 ],
 "metadata": {
  "language_info": {
   "name": "python"
  },
  "orig_nbformat": 4
 },
 "nbformat": 4,
 "nbformat_minor": 2
}

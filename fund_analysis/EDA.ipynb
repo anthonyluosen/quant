{
 "cells": [
  {
   "cell_type": "code",
   "execution_count": 3,
   "metadata": {},
   "outputs": [],
   "source": [
    "import sys\n",
    "import os\n",
    "import pandas as pd\n",
    "import numpy as np\n",
    "import matplotlib.pyplot as plt"
   ]
  },
  {
   "cell_type": "code",
   "execution_count": 5,
   "metadata": {},
   "outputs": [
    {
     "name": "stderr",
     "output_type": "stream",
     "text": [
      "c:\\Users\\ANTHONY\\anaconda3\\lib\\site-packages\\openpyxl\\styles\\stylesheet.py:226: UserWarning: Workbook contains no default style, apply openpyxl's default\n",
      "  warn(\"Workbook contains no default style, apply openpyxl's default\")\n"
     ]
    }
   ],
   "source": [
    "path = 'D:\\\\database\\\\fund\\\\fund_data\\基金概况\\基金主体信息表113635898\\\\FUND_MainInfo.xlsx'\n",
    "df = pd.read_excel(path)"
   ]
  },
  {
   "cell_type": "code",
   "execution_count": 21,
   "metadata": {},
   "outputs": [
    {
     "data": {
      "image/png": "[encoded data removed]",
      "text/plain": [
       "<Figure size 432x288 with 1 Axes>"
      ]
     },
     "metadata": {
      "needs_background": "light"
     },
     "output_type": "display_data"
    }
   ],
   "source": [
    "import matplotlib.pyplot as plt\n",
    "plt.rcParams['font.sans-serif'] = ['SimHei'] # Or any other Chinese characters\n",
    "plt.hist(df.Category.values[2:]);"
   ]
  },
  {
   "cell_type": "code",
   "execution_count": 24,
   "metadata": {},
   "outputs": [
    {
     "data": {
      "text/plain": [
       "10883"
      ]
     },
     "execution_count": 24,
     "metadata": {},
     "output_type": "execute_result"
    }
   ],
   "source": [
    "df.MasterFundCode.nunique()"
   ]
  },
  {
   "cell_type": "code",
   "execution_count": 29,
   "metadata": {},
   "outputs": [
    {
     "data": {
      "image/png": "[encoded data removed]",
      "text/plain": [
       "<Figure size 432x288 with 1 Axes>"
      ]
     },
     "metadata": {
      "needs_background": "light"
     },
     "output_type": "display_data"
    }
   ],
   "source": [
    "## fund TNA indicator distribution\n",
    "plt.hist(df.InceptionTNA.values[2:].astype('float'),bins=500);"
   ]
  },
  {
   "cell_type": "code",
   "execution_count": 11,
   "metadata": {},
   "outputs": [
    {
     "name": "stderr",
     "output_type": "stream",
     "text": [
      "c:\\Users\\ANTHONY\\anaconda3\\lib\\site-packages\\openpyxl\\styles\\stylesheet.py:226: UserWarning: Workbook contains no default style, apply openpyxl's default\n",
      "  warn(\"Workbook contains no default style, apply openpyxl's default\")\n"
     ]
    }
   ],
   "source": [
    "path2 = 'D:\\database\\\\fund\\\\fund_data\\基金投组\\股票投资明细表143108580\\\\Fund_Portfolio_Stock.xlsx'\n",
    "df = pd.read_excel(path2)"
   ]
  },
  {
   "cell_type": "code",
   "execution_count": 19,
   "metadata": {},
   "outputs": [],
   "source": [
    "data1 = df[df['MasterFundCode']=='000001']\n",
    "data1 = data1[data1['Startdate']=='2017-01-01']\n",
    "data1 = data1[data1['ReportTypeID']=='6']"
   ]
  },
  {
   "cell_type": "code",
   "execution_count": 13,
   "metadata": {},
   "outputs": [],
   "source": [
    "# for name,group in data.groupby('Startdate'):\n",
    "#     break\n",
    "# data1 = (group.query(\"StockName=='泸州老窖'\" and \"ReportTypeID=='6'\"))\n",
    "# data1.sort_values('Proportion',ascending= False)"
   ]
  },
  {
   "cell_type": "markdown",
   "metadata": {},
   "source": [
    "## accet allocation"
   ]
  },
  {
   "cell_type": "code",
   "execution_count": 3,
   "metadata": {},
   "outputs": [
    {
     "name": "stderr",
     "output_type": "stream",
     "text": [
      "c:\\Users\\ANTHONY\\anaconda3\\lib\\site-packages\\openpyxl\\styles\\stylesheet.py:226: UserWarning: Workbook contains no default style, apply openpyxl's default\n",
      "  warn(\"Workbook contains no default style, apply openpyxl's default\")\n"
     ]
    },
    {
     "data": {
      "text/html": [
       "<div>\n",
       "<style scoped>\n",
       "    .dataframe tbody tr th:only-of-type {\n",
       "        vertical-align: middle;\n",
       "    }\n",
       "\n",
       "    .dataframe tbody tr th {\n",
       "        vertical-align: top;\n",
       "    }\n",
       "\n",
       "    .dataframe thead th {\n",
       "        text-align: right;\n",
       "    }\n",
       "</style>\n",
       "<table border=\"1\" class=\"dataframe\">\n",
       "  <thead>\n",
       "    <tr style=\"text-align: right;\">\n",
       "      <th></th>\n",
       "      <th>FundID</th>\n",
       "      <th>MasterFundCode</th>\n",
       "      <th>ReportTypeID</th>\n",
       "      <th>Startdate</th>\n",
       "      <th>EndDate</th>\n",
       "      <th>CrossCode</th>\n",
       "      <th>CrossName</th>\n",
       "      <th>Equity</th>\n",
       "      <th>StockAmount</th>\n",
       "      <th>CommonStock</th>\n",
       "      <th>...</th>\n",
       "      <th>InterimOption</th>\n",
       "      <th>Warrant</th>\n",
       "      <th>Swap</th>\n",
       "      <th>StructuredProduct</th>\n",
       "      <th>BuyingBackTheSale</th>\n",
       "      <th>BuyoutRepo</th>\n",
       "      <th>MoneyMarketInstrument</th>\n",
       "      <th>TotalDepositReserve</th>\n",
       "      <th>OthersAsset</th>\n",
       "      <th>TotalAsset</th>\n",
       "    </tr>\n",
       "  </thead>\n",
       "  <tbody>\n",
       "    <tr>\n",
       "      <th>0</th>\n",
       "      <td>基金ID</td>\n",
       "      <td>基金主代码</td>\n",
       "      <td>定期报告类别编码</td>\n",
       "      <td>开始日期</td>\n",
       "      <td>截止日期</td>\n",
       "      <td>横表编码</td>\n",
       "      <td>横表名称</td>\n",
       "      <td>权益类投资</td>\n",
       "      <td>其中股票金额</td>\n",
       "      <td>其中普通股</td>\n",
       "      <td>...</td>\n",
       "      <td>其中期权</td>\n",
       "      <td>其中权证</td>\n",
       "      <td>其中互换</td>\n",
       "      <td>结构性投资产品</td>\n",
       "      <td>买入返售金融资产</td>\n",
       "      <td>其中买断式回购的买入返售金融资产</td>\n",
       "      <td>货币市场工具</td>\n",
       "      <td>银行存款和清算备付金合计</td>\n",
       "      <td>资产组合其他资产</td>\n",
       "      <td>资产组合合计</td>\n",
       "    </tr>\n",
       "    <tr>\n",
       "      <th>1</th>\n",
       "      <td>没有单位</td>\n",
       "      <td>没有单位</td>\n",
       "      <td>没有单位</td>\n",
       "      <td>没有单位</td>\n",
       "      <td>没有单位</td>\n",
       "      <td>没有单位</td>\n",
       "      <td>没有单位</td>\n",
       "      <td>没有单位</td>\n",
       "      <td>没有单位</td>\n",
       "      <td>没有单位</td>\n",
       "      <td>...</td>\n",
       "      <td>没有单位</td>\n",
       "      <td>没有单位</td>\n",
       "      <td>没有单位</td>\n",
       "      <td>没有单位</td>\n",
       "      <td>没有单位</td>\n",
       "      <td>没有单位</td>\n",
       "      <td>没有单位</td>\n",
       "      <td>没有单位</td>\n",
       "      <td>没有单位</td>\n",
       "      <td>没有单位</td>\n",
       "    </tr>\n",
       "    <tr>\n",
       "      <th>2</th>\n",
       "      <td>108426</td>\n",
       "      <td>000001</td>\n",
       "      <td>1</td>\n",
       "      <td>2002-01-01</td>\n",
       "      <td>2002-03-31</td>\n",
       "      <td>1</td>\n",
       "      <td>账面金额</td>\n",
       "      <td>1051095862.11</td>\n",
       "      <td>1051095862.11</td>\n",
       "      <td>NaN</td>\n",
       "      <td>...</td>\n",
       "      <td>NaN</td>\n",
       "      <td>0.0</td>\n",
       "      <td>NaN</td>\n",
       "      <td>NaN</td>\n",
       "      <td>0.0</td>\n",
       "      <td>NaN</td>\n",
       "      <td>NaN</td>\n",
       "      <td>1374771332.72</td>\n",
       "      <td>790146488.18</td>\n",
       "      <td>3254342213.21</td>\n",
       "    </tr>\n",
       "    <tr>\n",
       "      <th>3</th>\n",
       "      <td>108426</td>\n",
       "      <td>000001</td>\n",
       "      <td>1</td>\n",
       "      <td>2002-01-01</td>\n",
       "      <td>2002-03-31</td>\n",
       "      <td>2</td>\n",
       "      <td>占基金总资产比例</td>\n",
       "      <td>32.3</td>\n",
       "      <td>32.3</td>\n",
       "      <td>NaN</td>\n",
       "      <td>...</td>\n",
       "      <td>NaN</td>\n",
       "      <td>0.0</td>\n",
       "      <td>NaN</td>\n",
       "      <td>NaN</td>\n",
       "      <td>0.0</td>\n",
       "      <td>NaN</td>\n",
       "      <td>NaN</td>\n",
       "      <td>42.24</td>\n",
       "      <td>24.28</td>\n",
       "      <td>100.0</td>\n",
       "    </tr>\n",
       "    <tr>\n",
       "      <th>4</th>\n",
       "      <td>108426</td>\n",
       "      <td>000001</td>\n",
       "      <td>2</td>\n",
       "      <td>2002-04-01</td>\n",
       "      <td>2002-06-30</td>\n",
       "      <td>1</td>\n",
       "      <td>账面金额</td>\n",
       "      <td>1650509848.5</td>\n",
       "      <td>1650509848.5</td>\n",
       "      <td>NaN</td>\n",
       "      <td>...</td>\n",
       "      <td>NaN</td>\n",
       "      <td>0.0</td>\n",
       "      <td>NaN</td>\n",
       "      <td>NaN</td>\n",
       "      <td>0.0</td>\n",
       "      <td>NaN</td>\n",
       "      <td>NaN</td>\n",
       "      <td>2057614892.54</td>\n",
       "      <td>-91406558.83</td>\n",
       "      <td>3738303585.51</td>\n",
       "    </tr>\n",
       "  </tbody>\n",
       "</table>\n",
       "<p>5 rows × 30 columns</p>\n",
       "</div>"
      ],
      "text/plain": [
       "   FundID MasterFundCode ReportTypeID   Startdate     EndDate CrossCode  \\\n",
       "0    基金ID          基金主代码     定期报告类别编码        开始日期        截止日期      横表编码   \n",
       "1    没有单位           没有单位         没有单位        没有单位        没有单位      没有单位   \n",
       "2  108426         000001            1  2002-01-01  2002-03-31         1   \n",
       "3  108426         000001            1  2002-01-01  2002-03-31         2   \n",
       "4  108426         000001            2  2002-04-01  2002-06-30         1   \n",
       "\n",
       "  CrossName         Equity    StockAmount CommonStock  ... InterimOption  \\\n",
       "0      横表名称          权益类投资         其中股票金额       其中普通股  ...          其中期权   \n",
       "1      没有单位           没有单位           没有单位        没有单位  ...          没有单位   \n",
       "2      账面金额  1051095862.11  1051095862.11         NaN  ...           NaN   \n",
       "3  占基金总资产比例           32.3           32.3         NaN  ...           NaN   \n",
       "4      账面金额   1650509848.5   1650509848.5         NaN  ...           NaN   \n",
       "\n",
       "  Warrant  Swap StructuredProduct BuyingBackTheSale        BuyoutRepo  \\\n",
       "0    其中权证  其中互换           结构性投资产品          买入返售金融资产  其中买断式回购的买入返售金融资产   \n",
       "1    没有单位  没有单位              没有单位              没有单位              没有单位   \n",
       "2     0.0   NaN               NaN               0.0               NaN   \n",
       "3     0.0   NaN               NaN               0.0               NaN   \n",
       "4     0.0   NaN               NaN               0.0               NaN   \n",
       "\n",
       "  MoneyMarketInstrument TotalDepositReserve   OthersAsset     TotalAsset  \n",
       "0                货币市场工具        银行存款和清算备付金合计      资产组合其他资产         资产组合合计  \n",
       "1                  没有单位                没有单位          没有单位           没有单位  \n",
       "2                   NaN       1374771332.72  790146488.18  3254342213.21  \n",
       "3                   NaN               42.24         24.28          100.0  \n",
       "4                   NaN       2057614892.54  -91406558.83  3738303585.51  \n",
       "\n",
       "[5 rows x 30 columns]"
      ]
     },
     "execution_count": 3,
     "metadata": {},
     "output_type": "execute_result"
    }
   ],
   "source": [
    "path3 = 'D:\\\\database\\\\fund\\\\fund_data\\基金投组\\资产配置文件223055153\\\\Fund_Allocation.xlsx'\n",
    "df3 = pd.read_excel(path3)\n",
    "df3.head()"
   ]
  },
  {
   "cell_type": "code",
   "execution_count": 20,
   "metadata": {},
   "outputs": [
    {
     "data": {
      "text/html": [
       "<div>\n",
       "<style scoped>\n",
       "    .dataframe tbody tr th:only-of-type {\n",
       "        vertical-align: middle;\n",
       "    }\n",
       "\n",
       "    .dataframe tbody tr th {\n",
       "        vertical-align: top;\n",
       "    }\n",
       "\n",
       "    .dataframe thead th {\n",
       "        text-align: right;\n",
       "    }\n",
       "</style>\n",
       "<table border=\"1\" class=\"dataframe\">\n",
       "  <thead>\n",
       "    <tr style=\"text-align: right;\">\n",
       "      <th></th>\n",
       "      <th>FundID</th>\n",
       "      <th>MasterFundCode</th>\n",
       "      <th>ReportTypeID</th>\n",
       "      <th>Startdate</th>\n",
       "      <th>EndDate</th>\n",
       "      <th>CrossCode</th>\n",
       "      <th>CrossName</th>\n",
       "      <th>Equity</th>\n",
       "      <th>StockAmount</th>\n",
       "      <th>CommonStock</th>\n",
       "      <th>...</th>\n",
       "      <th>InterimOption</th>\n",
       "      <th>Warrant</th>\n",
       "      <th>Swap</th>\n",
       "      <th>StructuredProduct</th>\n",
       "      <th>BuyingBackTheSale</th>\n",
       "      <th>BuyoutRepo</th>\n",
       "      <th>MoneyMarketInstrument</th>\n",
       "      <th>TotalDepositReserve</th>\n",
       "      <th>OthersAsset</th>\n",
       "      <th>TotalAsset</th>\n",
       "    </tr>\n",
       "  </thead>\n",
       "  <tbody>\n",
       "    <tr>\n",
       "      <th>178</th>\n",
       "      <td>108426</td>\n",
       "      <td>000001</td>\n",
       "      <td>6</td>\n",
       "      <td>2017-01-01</td>\n",
       "      <td>2017-12-31</td>\n",
       "      <td>1</td>\n",
       "      <td>账面金额</td>\n",
       "      <td>3635405254.65</td>\n",
       "      <td>3635405254.65</td>\n",
       "      <td>NaN</td>\n",
       "      <td>...</td>\n",
       "      <td>NaN</td>\n",
       "      <td>NaN</td>\n",
       "      <td>NaN</td>\n",
       "      <td>NaN</td>\n",
       "      <td>160983341.48</td>\n",
       "      <td>NaN</td>\n",
       "      <td>NaN</td>\n",
       "      <td>305776073.28</td>\n",
       "      <td>27850184.89</td>\n",
       "      <td>5209660867.7</td>\n",
       "    </tr>\n",
       "    <tr>\n",
       "      <th>179</th>\n",
       "      <td>108426</td>\n",
       "      <td>000001</td>\n",
       "      <td>6</td>\n",
       "      <td>2017-01-01</td>\n",
       "      <td>2017-12-31</td>\n",
       "      <td>2</td>\n",
       "      <td>占基金总资产比例</td>\n",
       "      <td>69.78</td>\n",
       "      <td>69.78</td>\n",
       "      <td>NaN</td>\n",
       "      <td>...</td>\n",
       "      <td>NaN</td>\n",
       "      <td>NaN</td>\n",
       "      <td>NaN</td>\n",
       "      <td>NaN</td>\n",
       "      <td>3.09</td>\n",
       "      <td>NaN</td>\n",
       "      <td>NaN</td>\n",
       "      <td>5.87</td>\n",
       "      <td>0.53</td>\n",
       "      <td>100.0</td>\n",
       "    </tr>\n",
       "    <tr>\n",
       "      <th>180</th>\n",
       "      <td>108426</td>\n",
       "      <td>000001</td>\n",
       "      <td>6</td>\n",
       "      <td>2017-01-01</td>\n",
       "      <td>2017-12-31</td>\n",
       "      <td>3</td>\n",
       "      <td>占基金资产净值比例</td>\n",
       "      <td>72.88</td>\n",
       "      <td>72.88</td>\n",
       "      <td>NaN</td>\n",
       "      <td>...</td>\n",
       "      <td>NaN</td>\n",
       "      <td>NaN</td>\n",
       "      <td>NaN</td>\n",
       "      <td>NaN</td>\n",
       "      <td>3.23</td>\n",
       "      <td>NaN</td>\n",
       "      <td>NaN</td>\n",
       "      <td>6.13</td>\n",
       "      <td>0.56</td>\n",
       "      <td>104.43</td>\n",
       "    </tr>\n",
       "  </tbody>\n",
       "</table>\n",
       "<p>3 rows × 30 columns</p>\n",
       "</div>"
      ],
      "text/plain": [
       "     FundID MasterFundCode ReportTypeID   Startdate     EndDate CrossCode  \\\n",
       "178  108426         000001            6  2017-01-01  2017-12-31         1   \n",
       "179  108426         000001            6  2017-01-01  2017-12-31         2   \n",
       "180  108426         000001            6  2017-01-01  2017-12-31         3   \n",
       "\n",
       "     CrossName         Equity    StockAmount CommonStock  ... InterimOption  \\\n",
       "178       账面金额  3635405254.65  3635405254.65         NaN  ...           NaN   \n",
       "179   占基金总资产比例          69.78          69.78         NaN  ...           NaN   \n",
       "180  占基金资产净值比例          72.88          72.88         NaN  ...           NaN   \n",
       "\n",
       "    Warrant Swap StructuredProduct BuyingBackTheSale BuyoutRepo  \\\n",
       "178     NaN  NaN               NaN      160983341.48        NaN   \n",
       "179     NaN  NaN               NaN              3.09        NaN   \n",
       "180     NaN  NaN               NaN              3.23        NaN   \n",
       "\n",
       "    MoneyMarketInstrument TotalDepositReserve  OthersAsset    TotalAsset  \n",
       "178                   NaN        305776073.28  27850184.89  5209660867.7  \n",
       "179                   NaN                5.87         0.53         100.0  \n",
       "180                   NaN                6.13         0.56        104.43  \n",
       "\n",
       "[3 rows x 30 columns]"
      ]
     },
     "execution_count": 20,
     "metadata": {},
     "output_type": "execute_result"
    }
   ],
   "source": [
    "data = df3[df3['MasterFundCode']=='000001']\n",
    "data = data[data['Startdate']=='2017-01-01']\n",
    "data = data[data['ReportTypeID']=='6']\n",
    "\n",
    "data"
   ]
  },
  {
   "cell_type": "code",
   "execution_count": 22,
   "metadata": {},
   "outputs": [
    {
     "data": {
      "text/plain": [
       "72.85"
      ]
     },
     "execution_count": 22,
     "metadata": {},
     "output_type": "execute_result"
    }
   ],
   "source": [
    "data1.Proportion.sum()"
   ]
  },
  {
   "cell_type": "markdown",
   "metadata": {},
   "source": [
    "## 基金日行情"
   ]
  },
  {
   "cell_type": "code",
   "execution_count": 30,
   "metadata": {},
   "outputs": [
    {
     "name": "stderr",
     "output_type": "stream",
     "text": [
      "c:\\Users\\ANTHONY\\anaconda3\\lib\\site-packages\\openpyxl\\styles\\stylesheet.py:226: UserWarning: Workbook contains no default style, apply openpyxl's default\n",
      "  warn(\"Workbook contains no default style, apply openpyxl's default\")\n"
     ]
    },
    {
     "data": {
      "text/html": [
       "<div>\n",
       "<style scoped>\n",
       "    .dataframe tbody tr th:only-of-type {\n",
       "        vertical-align: middle;\n",
       "    }\n",
       "\n",
       "    .dataframe tbody tr th {\n",
       "        vertical-align: top;\n",
       "    }\n",
       "\n",
       "    .dataframe thead th {\n",
       "        text-align: right;\n",
       "    }\n",
       "</style>\n",
       "<table border=\"1\" class=\"dataframe\">\n",
       "  <thead>\n",
       "    <tr style=\"text-align: right;\">\n",
       "      <th></th>\n",
       "      <th>FundClassID</th>\n",
       "      <th>TradingDate</th>\n",
       "      <th>Symbol</th>\n",
       "      <th>Filling</th>\n",
       "      <th>PreClosePrice</th>\n",
       "      <th>OpenPrice</th>\n",
       "      <th>ClosePrice</th>\n",
       "      <th>HighPrice</th>\n",
       "      <th>LowPrice</th>\n",
       "      <th>Volume</th>\n",
       "      <th>...</th>\n",
       "      <th>MinTickSize</th>\n",
       "      <th>Covert</th>\n",
       "      <th>CovertRate</th>\n",
       "      <th>LimitDown</th>\n",
       "      <th>LimitUp</th>\n",
       "      <th>MarketValue</th>\n",
       "      <th>ReturnDaily</th>\n",
       "      <th>SimpleReturnDaily</th>\n",
       "      <th>ComparablePrice</th>\n",
       "      <th>SimpleComparablePrice</th>\n",
       "    </tr>\n",
       "  </thead>\n",
       "  <tbody>\n",
       "  </tbody>\n",
       "</table>\n",
       "<p>0 rows × 30 columns</p>\n",
       "</div>"
      ],
      "text/plain": [
       "Empty DataFrame\n",
       "Columns: [FundClassID, TradingDate, Symbol, Filling, PreClosePrice, OpenPrice, ClosePrice, HighPrice, LowPrice, Volume, Amount, LatestClosePrice, latestTradingDate, Distance, StateCode, AvgPrice, Change, ChangeRatio, TurnoverRate, Amplitude, MinTickSize, Covert, CovertRate, LimitDown, LimitUp, MarketValue, ReturnDaily, SimpleReturnDaily, ComparablePrice, SimpleComparablePrice]\n",
       "Index: []\n",
       "\n",
       "[0 rows x 30 columns]"
      ]
     },
     "execution_count": 30,
     "metadata": {},
     "output_type": "execute_result"
    }
   ],
   "source": [
    "path2 = 'D:\\database\\\\fund\\\\fund_data\\\\基金行情\\\\基金历史日行情信息表165144484\\\\FUND_MKT_Quotation.xlsx'\n",
    "df2 = pd.read_excel(path2)\n",
    "data2 = df2[df2['Symbol']=='108426']\n",
    "data2.head()"
   ]
  },
  {
   "cell_type": "markdown",
   "metadata": {},
   "source": [
    "## fund performance"
   ]
  },
  {
   "cell_type": "code",
   "execution_count": 4,
   "metadata": {},
   "outputs": [
    {
     "name": "stderr",
     "output_type": "stream",
     "text": [
      "c:\\Users\\ANTHONY\\anaconda3\\lib\\site-packages\\openpyxl\\styles\\stylesheet.py:226: UserWarning: Workbook contains no default style, apply openpyxl's default\n",
      "  warn(\"Workbook contains no default style, apply openpyxl's default\")\n"
     ]
    },
    {
     "data": {
      "text/html": [
       "<div>\n",
       "<style scoped>\n",
       "    .dataframe tbody tr th:only-of-type {\n",
       "        vertical-align: middle;\n",
       "    }\n",
       "\n",
       "    .dataframe tbody tr th {\n",
       "        vertical-align: top;\n",
       "    }\n",
       "\n",
       "    .dataframe thead th {\n",
       "        text-align: right;\n",
       "    }\n",
       "</style>\n",
       "<table border=\"1\" class=\"dataframe\">\n",
       "  <thead>\n",
       "    <tr style=\"text-align: right;\">\n",
       "      <th></th>\n",
       "      <th>FundClassID</th>\n",
       "      <th>TradingDate</th>\n",
       "      <th>Symbol</th>\n",
       "      <th>NAV</th>\n",
       "      <th>AccumulativeNAV</th>\n",
       "      <th>AchieveReturn</th>\n",
       "      <th>MillionAchieveReturn</th>\n",
       "      <th>HundredAchieveReturn</th>\n",
       "      <th>AnnualizedYield</th>\n",
       "      <th>CurrencyCode</th>\n",
       "      <th>Currency</th>\n",
       "      <th>Frequency</th>\n",
       "      <th>MarketStatus</th>\n",
       "    </tr>\n",
       "  </thead>\n",
       "  <tbody>\n",
       "    <tr>\n",
       "      <th>0</th>\n",
       "      <td>基金份额类别ID</td>\n",
       "      <td>交易日期</td>\n",
       "      <td>基金代码</td>\n",
       "      <td>基金份额净值</td>\n",
       "      <td>基金份额累计净值</td>\n",
       "      <td>每万份基金已实现收益</td>\n",
       "      <td>每百万份基金已实现收益</td>\n",
       "      <td>每百份基金已实现收益</td>\n",
       "      <td>7日年化收益率(%)</td>\n",
       "      <td>货币编码</td>\n",
       "      <td>币种</td>\n",
       "      <td>频度属性</td>\n",
       "      <td>时间属性</td>\n",
       "    </tr>\n",
       "    <tr>\n",
       "      <th>1</th>\n",
       "      <td>没有单位</td>\n",
       "      <td>没有单位</td>\n",
       "      <td>没有单位</td>\n",
       "      <td>没有单位</td>\n",
       "      <td>没有单位</td>\n",
       "      <td>没有单位</td>\n",
       "      <td>没有单位</td>\n",
       "      <td>没有单位</td>\n",
       "      <td>没有单位</td>\n",
       "      <td>没有单位</td>\n",
       "      <td>没有单位</td>\n",
       "      <td>没有单位</td>\n",
       "      <td>没有单位</td>\n",
       "    </tr>\n",
       "    <tr>\n",
       "      <th>2</th>\n",
       "      <td>202000000001</td>\n",
       "      <td>2021-05-10</td>\n",
       "      <td>000001</td>\n",
       "      <td>1.344</td>\n",
       "      <td>3.855</td>\n",
       "      <td>NaN</td>\n",
       "      <td>NaN</td>\n",
       "      <td>NaN</td>\n",
       "      <td>NaN</td>\n",
       "      <td>CNY</td>\n",
       "      <td>人民币元</td>\n",
       "      <td>NaN</td>\n",
       "      <td>NaN</td>\n",
       "    </tr>\n",
       "    <tr>\n",
       "      <th>3</th>\n",
       "      <td>202000000001</td>\n",
       "      <td>2021-05-11</td>\n",
       "      <td>000001</td>\n",
       "      <td>1.362</td>\n",
       "      <td>3.873</td>\n",
       "      <td>NaN</td>\n",
       "      <td>NaN</td>\n",
       "      <td>NaN</td>\n",
       "      <td>NaN</td>\n",
       "      <td>CNY</td>\n",
       "      <td>人民币元</td>\n",
       "      <td>NaN</td>\n",
       "      <td>NaN</td>\n",
       "    </tr>\n",
       "    <tr>\n",
       "      <th>4</th>\n",
       "      <td>202000000001</td>\n",
       "      <td>2021-05-12</td>\n",
       "      <td>000001</td>\n",
       "      <td>1.38</td>\n",
       "      <td>3.891</td>\n",
       "      <td>NaN</td>\n",
       "      <td>NaN</td>\n",
       "      <td>NaN</td>\n",
       "      <td>NaN</td>\n",
       "      <td>CNY</td>\n",
       "      <td>人民币元</td>\n",
       "      <td>NaN</td>\n",
       "      <td>NaN</td>\n",
       "    </tr>\n",
       "  </tbody>\n",
       "</table>\n",
       "</div>"
      ],
      "text/plain": [
       "    FundClassID TradingDate  Symbol     NAV AccumulativeNAV AchieveReturn  \\\n",
       "0      基金份额类别ID        交易日期    基金代码  基金份额净值        基金份额累计净值    每万份基金已实现收益   \n",
       "1          没有单位        没有单位    没有单位    没有单位            没有单位          没有单位   \n",
       "2  202000000001  2021-05-10  000001   1.344           3.855           NaN   \n",
       "3  202000000001  2021-05-11  000001   1.362           3.873           NaN   \n",
       "4  202000000001  2021-05-12  000001    1.38           3.891           NaN   \n",
       "\n",
       "  MillionAchieveReturn HundredAchieveReturn AnnualizedYield CurrencyCode  \\\n",
       "0          每百万份基金已实现收益           每百份基金已实现收益      7日年化收益率(%)         货币编码   \n",
       "1                 没有单位                 没有单位            没有单位         没有单位   \n",
       "2                  NaN                  NaN             NaN          CNY   \n",
       "3                  NaN                  NaN             NaN          CNY   \n",
       "4                  NaN                  NaN             NaN          CNY   \n",
       "\n",
       "  Currency Frequency MarketStatus  \n",
       "0       币种      频度属性         时间属性  \n",
       "1     没有单位      没有单位         没有单位  \n",
       "2     人民币元       NaN          NaN  \n",
       "3     人民币元       NaN          NaN  \n",
       "4     人民币元       NaN          NaN  "
      ]
     },
     "execution_count": 4,
     "metadata": {},
     "output_type": "execute_result"
    }
   ],
   "source": [
    "path4 = 'D:\\database\\\\fund\\\\fund_data\\基金表现\\基金日净值文件164817369\\\\Fund_NAV.xlsx'\n",
    "df2 = pd.read_excel(path4)\n",
    "df2.head()"
   ]
  },
  {
   "cell_type": "code",
   "execution_count": 5,
   "metadata": {},
   "outputs": [],
   "source": [
    "data3 = df2[df2['Symbol']=='000001']\n",
    "drawing = data3[['TradingDate','AccumulativeNAV']]"
   ]
  },
  {
   "cell_type": "code",
   "execution_count": 7,
   "metadata": {},
   "outputs": [
    {
     "name": "stderr",
     "output_type": "stream",
     "text": [
      "C:\\Users\\ANTHONY\\AppData\\Local\\Temp/ipykernel_19112/2878466901.py:1: SettingWithCopyWarning: \n",
      "A value is trying to be set on a copy of a slice from a DataFrame.\n",
      "Try using .loc[row_indexer,col_indexer] = value instead\n",
      "\n",
      "See the caveats in the documentation: https://pandas.pydata.org/pandas-docs/stable/user_guide/indexing.html#returning-a-view-versus-a-copy\n",
      "  drawing['TradingDate'] = pd.to_datetime(drawing['TradingDate'])\n"
     ]
    }
   ],
   "source": [
    "drawing['TradingDate'] = pd.to_datetime(drawing['TradingDate'])\n",
    "drawing.set_index('TradingDate',inplace=True)\n",
    "drawing.sort_index(inplace=True)"
   ]
  },
  {
   "cell_type": "code",
   "execution_count": 9,
   "metadata": {},
   "outputs": [
    {
     "data": {
      "text/plain": [
       "<AxesSubplot:xlabel='TradingDate'>"
      ]
     },
     "execution_count": 9,
     "metadata": {},
     "output_type": "execute_result"
    },
    {
     "data": {
      "image/png": "[encoded data removed]",
      "text/plain": [
       "<Figure size 432x288 with 1 Axes>"
      ]
     },
     "metadata": {
      "needs_background": "light"
     },
     "output_type": "display_data"
    }
   ],
   "source": [
    "drawing.plot()"
   ]
  },
  {
   "cell_type": "markdown",
   "metadata": {},
   "source": [
    "## varaiable analysis"
   ]
  },
  {
   "cell_type": "markdown",
   "metadata": {},
   "source": [
    "### fund expense\n",
    "base on fund id:000001<br>\n",
    "file position:D:\\database\\fund\\fund_data\\基金概况\\费率变动文件164021819\\Fund_FeesChange"
   ]
  },
  {
   "cell_type": "code",
   "execution_count": 3,
   "metadata": {},
   "outputs": [
    {
     "name": "stderr",
     "output_type": "stream",
     "text": [
      "c:\\Users\\ANTHONY\\anaconda3\\lib\\site-packages\\openpyxl\\styles\\stylesheet.py:226: UserWarning: Workbook contains no default style, apply openpyxl's default\n",
      "  warn(\"Workbook contains no default style, apply openpyxl's default\")\n"
     ]
    }
   ],
   "source": [
    "expense = pd.read_excel('D:\\database\\\\fund\\\\fund_data\\\\基金概况\\\\费率变动文件164021819\\\\Fund_FeesChange.xlsx')"
   ]
  },
  {
   "cell_type": "code",
   "execution_count": 24,
   "metadata": {},
   "outputs": [],
   "source": [
    "data3 = expense[expense['Symbol']=='000001']\n",
    "# drawing = data3[['TradingDate','AccumulativeNAV']]\n",
    "data3 = data3[data3['NameOfFee']=='日常申购费率(前端)']"
   ]
  },
  {
   "cell_type": "code",
   "execution_count": 25,
   "metadata": {},
   "outputs": [],
   "source": [
    "data3 = data3[['DeclareDate','ProportionOfFee']]\n",
    "data3['DeclareDate'] = pd.to_datetime(data3['DeclareDate'])\n",
    "data3.set_index('DeclareDate',inplace=True)\n",
    "data3.sort_index(inplace=True)\n"
   ]
  },
  {
   "cell_type": "code",
   "execution_count": 27,
   "metadata": {},
   "outputs": [
    {
     "data": {
      "text/plain": [
       "121"
      ]
     },
     "execution_count": 27,
     "metadata": {},
     "output_type": "execute_result"
    }
   ],
   "source": [
    "len(data3)"
   ]
  },
  {
   "cell_type": "code",
   "execution_count": 26,
   "metadata": {},
   "outputs": [
    {
     "data": {
      "text/plain": [
       "(array([33.,  0.,  8.,  0.,  0., 32.,  0., 24.,  0., 24.]),\n",
       " array([0. , 0.4, 0.8, 1.2, 1.6, 2. , 2.4, 2.8, 3.2, 3.6, 4. ]),\n",
       " <BarContainer object of 10 artists>)"
      ]
     },
     "execution_count": 26,
     "metadata": {},
     "output_type": "execute_result"
    },
    {
     "data": {
      "image/png": "[encoded data removed]",
      "text/plain": [
       "<Figure size 432x288 with 1 Axes>"
      ]
     },
     "metadata": {
      "needs_background": "light"
     },
     "output_type": "display_data"
    }
   ],
   "source": [
    "plt.hist(data3.values)"
   ]
  },
  {
   "cell_type": "markdown",
   "metadata": {},
   "source": [
    "## Fund Flow:未找到"
   ]
  },
  {
   "cell_type": "markdown",
   "metadata": {},
   "source": [
    "## Fund Size\n",
    "position:D:\\database\\fund\\fund_data\\基金财务\\基金财务指标表223334731\n"
   ]
  },
  {
   "cell_type": "code",
   "execution_count": 4,
   "metadata": {},
   "outputs": [
    {
     "name": "stderr",
     "output_type": "stream",
     "text": [
      "c:\\Users\\ANTHONY\\anaconda3\\lib\\site-packages\\openpyxl\\styles\\stylesheet.py:226: UserWarning: Workbook contains no default style, apply openpyxl's default\n",
      "  warn(\"Workbook contains no default style, apply openpyxl's default\")\n"
     ]
    }
   ],
   "source": [
    "nettna = pd.read_excel('D:\\database\\\\fund\\\\fund_data\\\\基金财务\\\\基金财务指标表223334731\\\\Fund_Fin_Index.xlsx')"
   ]
  },
  {
   "cell_type": "code",
   "execution_count": 30,
   "metadata": {},
   "outputs": [
    {
     "data": {
      "text/html": [
       "<div>\n",
       "<style scoped>\n",
       "    .dataframe tbody tr th:only-of-type {\n",
       "        vertical-align: middle;\n",
       "    }\n",
       "\n",
       "    .dataframe tbody tr th {\n",
       "        vertical-align: top;\n",
       "    }\n",
       "\n",
       "    .dataframe thead th {\n",
       "        text-align: right;\n",
       "    }\n",
       "</style>\n",
       "<table border=\"1\" class=\"dataframe\">\n",
       "  <thead>\n",
       "    <tr style=\"text-align: right;\">\n",
       "      <th></th>\n",
       "      <th>FundID</th>\n",
       "      <th>MasterFundCode</th>\n",
       "      <th>FundClassID</th>\n",
       "      <th>Symbol</th>\n",
       "      <th>ReportTypeID</th>\n",
       "      <th>Startdate</th>\n",
       "      <th>EndDate</th>\n",
       "      <th>DATATYPEID</th>\n",
       "      <th>Profit</th>\n",
       "      <th>AdjustProfit</th>\n",
       "      <th>...</th>\n",
       "      <th>AdjustNAV</th>\n",
       "      <th>AVGROE</th>\n",
       "      <th>NAVGrowth</th>\n",
       "      <th>AccumulatedNAVGrowth</th>\n",
       "      <th>ROE</th>\n",
       "      <th>AccumulatedROE</th>\n",
       "      <th>DistributionType</th>\n",
       "      <th>ProfitPerShare</th>\n",
       "      <th>AVGProfitPerShare</th>\n",
       "      <th>TotalAsset</th>\n",
       "    </tr>\n",
       "  </thead>\n",
       "  <tbody>\n",
       "    <tr>\n",
       "      <th>0</th>\n",
       "      <td>基金ID</td>\n",
       "      <td>基金主代码</td>\n",
       "      <td>基金份额类别ID</td>\n",
       "      <td>基金代码</td>\n",
       "      <td>定期报告类别编码</td>\n",
       "      <td>开始日期</td>\n",
       "      <td>截止日期</td>\n",
       "      <td>数据类型编码</td>\n",
       "      <td>本期利润</td>\n",
       "      <td>本期利润扣减本期公允价值变动损益后的净额</td>\n",
       "      <td>...</td>\n",
       "      <td>期末还原后基金份额累计净值</td>\n",
       "      <td>加权平均净值利润率(%)</td>\n",
       "      <td>本期份额净值增长率(%)</td>\n",
       "      <td>份额累计净值增长率(%)</td>\n",
       "      <td>本期基金净值收益率(%)</td>\n",
       "      <td>累计基金净值收益率(%)</td>\n",
       "      <td>基金收益分配结转方式</td>\n",
       "      <td>单位基金净收益</td>\n",
       "      <td>加权单位基金本期净收益</td>\n",
       "      <td>期末基金资产总值</td>\n",
       "    </tr>\n",
       "    <tr>\n",
       "      <th>1</th>\n",
       "      <td>没有单位</td>\n",
       "      <td>没有单位</td>\n",
       "      <td>没有单位</td>\n",
       "      <td>没有单位</td>\n",
       "      <td>没有单位</td>\n",
       "      <td>没有单位</td>\n",
       "      <td>没有单位</td>\n",
       "      <td>没有单位</td>\n",
       "      <td>没有单位</td>\n",
       "      <td>没有单位</td>\n",
       "      <td>...</td>\n",
       "      <td>没有单位</td>\n",
       "      <td>没有单位</td>\n",
       "      <td>没有单位</td>\n",
       "      <td>没有单位</td>\n",
       "      <td>没有单位</td>\n",
       "      <td>没有单位</td>\n",
       "      <td>没有单位</td>\n",
       "      <td>没有单位</td>\n",
       "      <td>没有单位</td>\n",
       "      <td>没有单位</td>\n",
       "    </tr>\n",
       "    <tr>\n",
       "      <th>2</th>\n",
       "      <td>108426</td>\n",
       "      <td>000001</td>\n",
       "      <td>202000000001</td>\n",
       "      <td>000001</td>\n",
       "      <td>1</td>\n",
       "      <td>2002-01-01</td>\n",
       "      <td>2002-03-31</td>\n",
       "      <td>3</td>\n",
       "      <td>NaN</td>\n",
       "      <td>NaN</td>\n",
       "      <td>...</td>\n",
       "      <td>NaN</td>\n",
       "      <td>NaN</td>\n",
       "      <td>NaN</td>\n",
       "      <td>NaN</td>\n",
       "      <td>NaN</td>\n",
       "      <td>NaN</td>\n",
       "      <td>NaN</td>\n",
       "      <td>NaN</td>\n",
       "      <td>NaN</td>\n",
       "      <td>3254342213.21</td>\n",
       "    </tr>\n",
       "    <tr>\n",
       "      <th>3</th>\n",
       "      <td>108426</td>\n",
       "      <td>000001</td>\n",
       "      <td>202000000001</td>\n",
       "      <td>000001</td>\n",
       "      <td>5</td>\n",
       "      <td>2002-01-01</td>\n",
       "      <td>2002-06-30</td>\n",
       "      <td>3</td>\n",
       "      <td>172924610.89</td>\n",
       "      <td>NaN</td>\n",
       "      <td>...</td>\n",
       "      <td>NaN</td>\n",
       "      <td>NaN</td>\n",
       "      <td>10.03</td>\n",
       "      <td>10.03</td>\n",
       "      <td>5.34</td>\n",
       "      <td>NaN</td>\n",
       "      <td>NaN</td>\n",
       "      <td>NaN</td>\n",
       "      <td>NaN</td>\n",
       "      <td>NaN</td>\n",
       "    </tr>\n",
       "  </tbody>\n",
       "</table>\n",
       "<p>4 rows × 25 columns</p>\n",
       "</div>"
      ],
      "text/plain": [
       "   FundID MasterFundCode   FundClassID  Symbol ReportTypeID   Startdate  \\\n",
       "0    基金ID          基金主代码      基金份额类别ID    基金代码     定期报告类别编码        开始日期   \n",
       "1    没有单位           没有单位          没有单位    没有单位         没有单位        没有单位   \n",
       "2  108426         000001  202000000001  000001            1  2002-01-01   \n",
       "3  108426         000001  202000000001  000001            5  2002-01-01   \n",
       "\n",
       "      EndDate DATATYPEID        Profit          AdjustProfit  ...  \\\n",
       "0        截止日期     数据类型编码          本期利润  本期利润扣减本期公允价值变动损益后的净额  ...   \n",
       "1        没有单位       没有单位          没有单位                  没有单位  ...   \n",
       "2  2002-03-31          3           NaN                   NaN  ...   \n",
       "3  2002-06-30          3  172924610.89                   NaN  ...   \n",
       "\n",
       "       AdjustNAV        AVGROE     NAVGrowth AccumulatedNAVGrowth  \\\n",
       "0  期末还原后基金份额累计净值  加权平均净值利润率(%)  本期份额净值增长率(%)         份额累计净值增长率(%)   \n",
       "1           没有单位          没有单位          没有单位                 没有单位   \n",
       "2            NaN           NaN           NaN                  NaN   \n",
       "3            NaN           NaN         10.03                10.03   \n",
       "\n",
       "            ROE AccumulatedROE DistributionType ProfitPerShare  \\\n",
       "0  本期基金净值收益率(%)   累计基金净值收益率(%)       基金收益分配结转方式        单位基金净收益   \n",
       "1          没有单位           没有单位             没有单位           没有单位   \n",
       "2           NaN            NaN              NaN            NaN   \n",
       "3          5.34            NaN              NaN            NaN   \n",
       "\n",
       "  AVGProfitPerShare     TotalAsset  \n",
       "0       加权单位基金本期净收益       期末基金资产总值  \n",
       "1              没有单位           没有单位  \n",
       "2               NaN  3254342213.21  \n",
       "3               NaN            NaN  \n",
       "\n",
       "[4 rows x 25 columns]"
      ]
     },
     "execution_count": 30,
     "metadata": {},
     "output_type": "execute_result"
    }
   ],
   "source": [
    "nettna.head(4)"
   ]
  },
  {
   "cell_type": "code",
   "execution_count": 42,
   "metadata": {},
   "outputs": [],
   "source": [
    "data3 = nettna[nettna['MasterFundCode']=='000001']\n",
    "# drawing = data3[['TradingDate','AccumulativeNAV']]\n",
    "data3 = data3[data3['ReportTypeID']=='6']\n",
    "data3 = data3[['Startdate','EndDate','TotalTNA','DATATYPEID']]\n",
    "# data3['DeclareDate'] = pd.to_datetime(data3['DeclareDate'])\n",
    "# data3.set_index('DeclareDate',inplace=True)\n",
    "# data3.sort_index(inplace=True)"
   ]
  },
  {
   "cell_type": "code",
   "execution_count": 47,
   "metadata": {},
   "outputs": [
    {
     "data": {
      "text/plain": [
       "[<matplotlib.lines.Line2D at 0x2713ee28280>]"
      ]
     },
     "execution_count": 47,
     "metadata": {},
     "output_type": "execute_result"
    },
    {
     "data": {
      "image/png": "[encoded data removed]",
      "text/plain": [
       "<Figure size 432x288 with 1 Axes>"
      ]
     },
     "metadata": {
      "needs_background": "light"
     },
     "output_type": "display_data"
    }
   ],
   "source": [
    "# data3['EndDate'] = pd.to_datetime(data3['EndDate'])\n",
    "# data3.set_index('EndDate',inplace=True)\n",
    "# data3.sort_index(inplace=True)\n",
    "plt.plot(data3.index,data3['TotalTNA'].astype('float'))"
   ]
  },
  {
   "cell_type": "markdown",
   "metadata": {},
   "source": [
    "## one year return and one month return\n",
    "D:\\database\\fund\\fund_data\\基金行情\\基金年行情信息表164746094<br>\n",
    "D:\\database\\fund\\fund_data\\基金行情\\基金月行情信息表164559647\n"
   ]
  },
  {
   "cell_type": "code",
   "execution_count": 5,
   "metadata": {},
   "outputs": [],
   "source": [
    "month = pd.read_excel('D:\\database\\\\fund\\\\fund_data\\基金行情\\基金月行情信息表164559647\\\\Fund_MKT_QuotationMonth.xlsx')\n",
    "year = pd.read_excel('D:\\database\\\\fund\\\\fund_data\\基金行情\\基金年行情信息表164746094\\\\Fund_MKT_QuotationYear.xlsx')"
   ]
  },
  {
   "cell_type": "code",
   "execution_count": 51,
   "metadata": {},
   "outputs": [
    {
     "data": {
      "text/html": [
       "<div>\n",
       "<style scoped>\n",
       "    .dataframe tbody tr th:only-of-type {\n",
       "        vertical-align: middle;\n",
       "    }\n",
       "\n",
       "    .dataframe tbody tr th {\n",
       "        vertical-align: top;\n",
       "    }\n",
       "\n",
       "    .dataframe thead th {\n",
       "        text-align: right;\n",
       "    }\n",
       "</style>\n",
       "<table border=\"1\" class=\"dataframe\">\n",
       "  <thead>\n",
       "    <tr style=\"text-align: right;\">\n",
       "      <th></th>\n",
       "      <th>FundClassID</th>\n",
       "      <th>TradingDate</th>\n",
       "      <th>TradingMonth</th>\n",
       "      <th>Symbol</th>\n",
       "      <th>Filling</th>\n",
       "      <th>OpenDate</th>\n",
       "      <th>PrvCloseDate</th>\n",
       "      <th>PrvClosePrice</th>\n",
       "      <th>OpenPrice</th>\n",
       "      <th>HighPrice</th>\n",
       "      <th>...</th>\n",
       "      <th>Amount</th>\n",
       "      <th>Amplitude</th>\n",
       "      <th>HighCloseDate</th>\n",
       "      <th>LowCloseDate</th>\n",
       "      <th>Covert</th>\n",
       "      <th>CovertRate</th>\n",
       "      <th>TradingDays</th>\n",
       "      <th>MarketValue</th>\n",
       "      <th>ReturnDaily</th>\n",
       "      <th>SimpleReturnDaily</th>\n",
       "    </tr>\n",
       "  </thead>\n",
       "  <tbody>\n",
       "  </tbody>\n",
       "</table>\n",
       "<p>0 rows × 33 columns</p>\n",
       "</div>"
      ],
      "text/plain": [
       "Empty DataFrame\n",
       "Columns: [FundClassID, TradingDate, TradingMonth, Symbol, Filling, OpenDate, PrvCloseDate, PrvClosePrice, OpenPrice, HighPrice, LowPrice, HighDate, LowDate, ClosePrice, CloseDate, HighClosePrice, LowClosePrice, AvgPrice, Change, ChangeRatio, TurnoverRate, AvgTurnoverRate, Volume, Amount, Amplitude, HighCloseDate, LowCloseDate, Covert, CovertRate, TradingDays, MarketValue, ReturnDaily, SimpleReturnDaily]\n",
       "Index: []\n",
       "\n",
       "[0 rows x 33 columns]"
      ]
     },
     "execution_count": 51,
     "metadata": {},
     "output_type": "execute_result"
    }
   ],
   "source": [
    "data3 = month[month['Symbol']=='000001']\n",
    "# drawing = data3[['TradingDate','AccumulativeNAV']]\n",
    "# data3 = data3[data3['ReportTypeID']=='6']\n",
    "# data3 = data3[['Startdate','EndDate','TotalTNA','DATATYPEID']]\n",
    "# data3['DeclareDate'] = pd.to_datetime(data3['DeclareDate'])\n",
    "# data3.set_index('DeclareDate',inplace=True)\n",
    "# data3.sort_index(inplace=True)\n",
    "data3.head()"
   ]
  },
  {
   "cell_type": "markdown",
   "metadata": {},
   "source": [
    "## fund code "
   ]
  },
  {
   "cell_type": "code",
   "execution_count": 18,
   "metadata": {},
   "outputs": [],
   "source": [
    "b = list(month.Symbol.unique())\n",
    "total = []\n",
    "not_total = []\n",
    "for i in nettna.MasterFundCode.unique():\n",
    "    if i in b:\n",
    "        total.append(i)\n",
    "    else:\n",
    "        not_total.append(i)\n",
    "    "
   ]
  },
  {
   "cell_type": "code",
   "execution_count": 17,
   "metadata": {},
   "outputs": [
    {
     "name": "stdout",
     "output_type": "stream",
     "text": [
      "1625\n",
      "1226\n"
     ]
    }
   ],
   "source": [
    "print(len(b))\n",
    "print(len(total))"
   ]
  },
  {
   "cell_type": "code",
   "execution_count": 24,
   "metadata": {},
   "outputs": [
    {
     "data": {
      "text/plain": [
       "['970113',\n",
       " '970115',\n",
       " '970116',\n",
       " '970117',\n",
       " '970120',\n",
       " '970122',\n",
       " '970125',\n",
       " '970127',\n",
       " '970129',\n",
       " '980003']"
      ]
     },
     "execution_count": 24,
     "metadata": {},
     "output_type": "execute_result"
    }
   ],
   "source": [
    "not_total[-10:]"
   ]
  },
  {
   "cell_type": "code",
   "execution_count": 25,
   "metadata": {},
   "outputs": [
    {
     "data": {
      "text/plain": [
       "['588150',\n",
       " '588180',\n",
       " '588280',\n",
       " '588300',\n",
       " '588310',\n",
       " '588330',\n",
       " '588360',\n",
       " '588380',\n",
       " '588390',\n",
       " '588400']"
      ]
     },
     "execution_count": 25,
     "metadata": {},
     "output_type": "execute_result"
    }
   ],
   "source": [
    "total[-10:]"
   ]
  },
  {
   "cell_type": "markdown",
   "metadata": {},
   "source": [
    "## banalance sheet\n",
    "D:\\database\\fund\\fund_data\\基金财务\\资产负债表223315178"
   ]
  },
  {
   "cell_type": "code",
   "execution_count": 27,
   "metadata": {},
   "outputs": [
    {
     "name": "stderr",
     "output_type": "stream",
     "text": [
      "c:\\Users\\ANTHONY\\anaconda3\\lib\\site-packages\\openpyxl\\styles\\stylesheet.py:226: UserWarning: Workbook contains no default style, apply openpyxl's default\n",
      "  warn(\"Workbook contains no default style, apply openpyxl's default\")\n"
     ]
    }
   ],
   "source": [
    "Balance = pd.read_excel('D:\\database\\\\fund\\\\fund_data\\基金财务\\资产负债表223315178\\\\FUND_FIN_Balance.xlsx')\n"
   ]
  },
  {
   "cell_type": "code",
   "execution_count": 30,
   "metadata": {},
   "outputs": [],
   "source": [
    "data = Balance[Balance['MasterFundCode']=='000001']\n",
    "data = data[data['ReportTypeID']=='6']\n",
    "data = data[['SubscriptionReceivable','RedemptionPayable','Startdate','EndDate']]"
   ]
  },
  {
   "cell_type": "code",
   "execution_count": 32,
   "metadata": {},
   "outputs": [
    {
     "data": {
      "text/plain": [
       "[<matplotlib.lines.Line2D at 0x1ab62f2bfa0>]"
      ]
     },
     "execution_count": 32,
     "metadata": {},
     "output_type": "execute_result"
    },
    {
     "data": {
      "image/png": "[encoded data removed]",
      "text/plain": [
       "<Figure size 432x288 with 1 Axes>"
      ]
     },
     "metadata": {
      "needs_background": "light"
     },
     "output_type": "display_data"
    }
   ],
   "source": [
    "data['EndDate'] = pd.to_datetime(data['EndDate'])\n",
    "data.set_index('EndDate',inplace=True)\n",
    "data.sort_index(inplace=True)\n",
    "plt.plot(data.index,data['SubscriptionReceivable'].astype('float'))"
   ]
  },
  {
   "cell_type": "code",
   "execution_count": 34,
   "metadata": {},
   "outputs": [
    {
     "data": {
      "text/plain": [
       "[<matplotlib.lines.Line2D at 0x1ab75576eb0>]"
      ]
     },
     "execution_count": 34,
     "metadata": {},
     "output_type": "execute_result"
    },
    {
     "data": {
      "image/png": "[encoded data removed]",
      "text/plain": [
       "<Figure size 432x288 with 1 Axes>"
      ]
     },
     "metadata": {
      "needs_background": "light"
     },
     "output_type": "display_data"
    }
   ],
   "source": [
    "# data['EndDate'] = pd.to_datetime(data['EndDate'])\n",
    "# data.set_index('EndDate',inplace=True)\n",
    "# data.sort_index(inplace=True)\n",
    "plt.plot(data.index,data['RedemptionPayable'].astype('float'))"
   ]
  },
  {
   "cell_type": "code",
   "execution_count": 35,
   "metadata": {},
   "outputs": [
    {
     "data": {
      "text/plain": [
       "[<matplotlib.lines.Line2D at 0x1ab75a2f7c0>]"
      ]
     },
     "execution_count": 35,
     "metadata": {},
     "output_type": "execute_result"
    },
    {
     "data": {
      "image/png": "[encoded data removed]",
      "text/plain": [
       "<Figure size 432x288 with 1 Axes>"
      ]
     },
     "metadata": {
      "needs_background": "light"
     },
     "output_type": "display_data"
    }
   ],
   "source": [
    "plt.plot(data.index,data['SubscriptionReceivable']-data['RedemptionPayable'].astype('float'))"
   ]
  },
  {
   "cell_type": "code",
   "execution_count": null,
   "metadata": {},
   "outputs": [],
   "source": []
  }
 ],
 "metadata": {
  "interpreter": {
   "hash": "fd98765cc22f2191cf28a745879465676945dde8194570cb64e113638bc356ed"
  },
  "kernelspec": {
   "display_name": "Python 3.9.7 ('base')",
   "language": "python",
   "name": "python3"
  },
  "language_info": {
   "codemirror_mode": {
    "name": "ipython",
    "version": 3
   },
   "file_extension": ".py",
   "mimetype": "text/x-python",
   "name": "python",
   "nbconvert_exporter": "python",
   "pygments_lexer": "ipython3",
   "version": "3.9.7"
  },
  "orig_nbformat": 4
 },
 "nbformat": 4,
 "nbformat_minor": 2
}

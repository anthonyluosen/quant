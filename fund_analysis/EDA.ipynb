{
 "cells": [
  {
   "cell_type": "code",
   "execution_count": 2,
   "metadata": {},
   "outputs": [],
   "source": [
    "import sys\n",
    "import os\n",
    "import pandas as pd\n",
    "import numpy as np\n"
   ]
  },
  {
   "cell_type": "code",
   "execution_count": 5,
   "metadata": {},
   "outputs": [
    {
     "name": "stderr",
     "output_type": "stream",
     "text": [
      "c:\\Users\\ANTHONY\\anaconda3\\lib\\site-packages\\openpyxl\\styles\\stylesheet.py:226: UserWarning: Workbook contains no default style, apply openpyxl's default\n",
      "  warn(\"Workbook contains no default style, apply openpyxl's default\")\n"
     ]
    }
   ],
   "source": [
    "path = 'D:\\\\database\\\\fund\\\\fund_data\\基金概况\\基金主体信息表113635898\\\\FUND_MainInfo.xlsx'\n",
    "df = pd.read_excel(path)"
   ]
  },
  {
   "cell_type": "code",
   "execution_count": 21,
   "metadata": {},
   "outputs": [
    {
     "data": {
      "image/png": "[encoded data removed]",
      "text/plain": [
       "<Figure size 432x288 with 1 Axes>"
      ]
     },
     "metadata": {
      "needs_background": "light"
     },
     "output_type": "display_data"
    }
   ],
   "source": [
    "import matplotlib.pyplot as plt\n",
    "plt.rcParams['font.sans-serif'] = ['SimHei'] # Or any other Chinese characters\n",
    "plt.hist(df.Category.values[2:]);"
   ]
  },
  {
   "cell_type": "code",
   "execution_count": 24,
   "metadata": {},
   "outputs": [
    {
     "data": {
      "text/plain": [
       "10883"
      ]
     },
     "execution_count": 24,
     "metadata": {},
     "output_type": "execute_result"
    }
   ],
   "source": [
    "df.MasterFundCode.nunique()"
   ]
  },
  {
   "cell_type": "code",
   "execution_count": 29,
   "metadata": {},
   "outputs": [
    {
     "data": {
      "image/png": "[encoded data removed]",
      "text/plain": [
       "<Figure size 432x288 with 1 Axes>"
      ]
     },
     "metadata": {
      "needs_background": "light"
     },
     "output_type": "display_data"
    }
   ],
   "source": [
    "## fund TNA indicator distribution\n",
    "plt.hist(df.InceptionTNA.values[2:].astype('float'),bins=500);"
   ]
  },
  {
   "cell_type": "code",
   "execution_count": 11,
   "metadata": {},
   "outputs": [
    {
     "name": "stderr",
     "output_type": "stream",
     "text": [
      "c:\\Users\\ANTHONY\\anaconda3\\lib\\site-packages\\openpyxl\\styles\\stylesheet.py:226: UserWarning: Workbook contains no default style, apply openpyxl's default\n",
      "  warn(\"Workbook contains no default style, apply openpyxl's default\")\n"
     ]
    }
   ],
   "source": [
    "path2 = 'D:\\database\\\\fund\\\\fund_data\\基金投组\\股票投资明细表143108580\\\\Fund_Portfolio_Stock.xlsx'\n",
    "df = pd.read_excel(path2)"
   ]
  },
  {
   "cell_type": "code",
   "execution_count": 19,
   "metadata": {},
   "outputs": [],
   "source": [
    "data1 = df[df['MasterFundCode']=='000001']\n",
    "data1 = data1[data1['Startdate']=='2017-01-01']\n",
    "data1 = data1[data1['ReportTypeID']=='6']"
   ]
  },
  {
   "cell_type": "code",
   "execution_count": 13,
   "metadata": {},
   "outputs": [],
   "source": [
    "# for name,group in data.groupby('Startdate'):\n",
    "#     break\n",
    "# data1 = (group.query(\"StockName=='泸州老窖'\" and \"ReportTypeID=='6'\"))\n",
    "# data1.sort_values('Proportion',ascending= False)"
   ]
  },
  {
   "cell_type": "markdown",
   "metadata": {},
   "source": [
    "## accet allocation"
   ]
  },
  {
   "cell_type": "code",
   "execution_count": 3,
   "metadata": {},
   "outputs": [
    {
     "name": "stderr",
     "output_type": "stream",
     "text": [
      "c:\\Users\\ANTHONY\\anaconda3\\lib\\site-packages\\openpyxl\\styles\\stylesheet.py:226: UserWarning: Workbook contains no default style, apply openpyxl's default\n",
      "  warn(\"Workbook contains no default style, apply openpyxl's default\")\n"
     ]
    },
    {
     "data": {
      "text/html": [
       "<div>\n",
       "<style scoped>\n",
       "    .dataframe tbody tr th:only-of-type {\n",
       "        vertical-align: middle;\n",
       "    }\n",
       "\n",
       "    .dataframe tbody tr th {\n",
       "        vertical-align: top;\n",
       "    }\n",
       "\n",
       "    .dataframe thead th {\n",
       "        text-align: right;\n",
       "    }\n",
       "</style>\n",
       "<table border=\"1\" class=\"dataframe\">\n",
       "  <thead>\n",
       "    <tr style=\"text-align: right;\">\n",
       "      <th></th>\n",
       "      <th>FundID</th>\n",
       "      <th>MasterFundCode</th>\n",
       "      <th>ReportTypeID</th>\n",
       "      <th>Startdate</th>\n",
       "      <th>EndDate</th>\n",
       "      <th>CrossCode</th>\n",
       "      <th>CrossName</th>\n",
       "      <th>Equity</th>\n",
       "      <th>StockAmount</th>\n",
       "      <th>CommonStock</th>\n",
       "      <th>...</th>\n",
       "      <th>InterimOption</th>\n",
       "      <th>Warrant</th>\n",
       "      <th>Swap</th>\n",
       "      <th>StructuredProduct</th>\n",
       "      <th>BuyingBackTheSale</th>\n",
       "      <th>BuyoutRepo</th>\n",
       "      <th>MoneyMarketInstrument</th>\n",
       "      <th>TotalDepositReserve</th>\n",
       "      <th>OthersAsset</th>\n",
       "      <th>TotalAsset</th>\n",
       "    </tr>\n",
       "  </thead>\n",
       "  <tbody>\n",
       "    <tr>\n",
       "      <th>0</th>\n",
       "      <td>基金ID</td>\n",
       "      <td>基金主代码</td>\n",
       "      <td>定期报告类别编码</td>\n",
       "      <td>开始日期</td>\n",
       "      <td>截止日期</td>\n",
       "      <td>横表编码</td>\n",
       "      <td>横表名称</td>\n",
       "      <td>权益类投资</td>\n",
       "      <td>其中股票金额</td>\n",
       "      <td>其中普通股</td>\n",
       "      <td>...</td>\n",
       "      <td>其中期权</td>\n",
       "      <td>其中权证</td>\n",
       "      <td>其中互换</td>\n",
       "      <td>结构性投资产品</td>\n",
       "      <td>买入返售金融资产</td>\n",
       "      <td>其中买断式回购的买入返售金融资产</td>\n",
       "      <td>货币市场工具</td>\n",
       "      <td>银行存款和清算备付金合计</td>\n",
       "      <td>资产组合其他资产</td>\n",
       "      <td>资产组合合计</td>\n",
       "    </tr>\n",
       "    <tr>\n",
       "      <th>1</th>\n",
       "      <td>没有单位</td>\n",
       "      <td>没有单位</td>\n",
       "      <td>没有单位</td>\n",
       "      <td>没有单位</td>\n",
       "      <td>没有单位</td>\n",
       "      <td>没有单位</td>\n",
       "      <td>没有单位</td>\n",
       "      <td>没有单位</td>\n",
       "      <td>没有单位</td>\n",
       "      <td>没有单位</td>\n",
       "      <td>...</td>\n",
       "      <td>没有单位</td>\n",
       "      <td>没有单位</td>\n",
       "      <td>没有单位</td>\n",
       "      <td>没有单位</td>\n",
       "      <td>没有单位</td>\n",
       "      <td>没有单位</td>\n",
       "      <td>没有单位</td>\n",
       "      <td>没有单位</td>\n",
       "      <td>没有单位</td>\n",
       "      <td>没有单位</td>\n",
       "    </tr>\n",
       "    <tr>\n",
       "      <th>2</th>\n",
       "      <td>108426</td>\n",
       "      <td>000001</td>\n",
       "      <td>1</td>\n",
       "      <td>2002-01-01</td>\n",
       "      <td>2002-03-31</td>\n",
       "      <td>1</td>\n",
       "      <td>账面金额</td>\n",
       "      <td>1051095862.11</td>\n",
       "      <td>1051095862.11</td>\n",
       "      <td>NaN</td>\n",
       "      <td>...</td>\n",
       "      <td>NaN</td>\n",
       "      <td>0.0</td>\n",
       "      <td>NaN</td>\n",
       "      <td>NaN</td>\n",
       "      <td>0.0</td>\n",
       "      <td>NaN</td>\n",
       "      <td>NaN</td>\n",
       "      <td>1374771332.72</td>\n",
       "      <td>790146488.18</td>\n",
       "      <td>3254342213.21</td>\n",
       "    </tr>\n",
       "    <tr>\n",
       "      <th>3</th>\n",
       "      <td>108426</td>\n",
       "      <td>000001</td>\n",
       "      <td>1</td>\n",
       "      <td>2002-01-01</td>\n",
       "      <td>2002-03-31</td>\n",
       "      <td>2</td>\n",
       "      <td>占基金总资产比例</td>\n",
       "      <td>32.3</td>\n",
       "      <td>32.3</td>\n",
       "      <td>NaN</td>\n",
       "      <td>...</td>\n",
       "      <td>NaN</td>\n",
       "      <td>0.0</td>\n",
       "      <td>NaN</td>\n",
       "      <td>NaN</td>\n",
       "      <td>0.0</td>\n",
       "      <td>NaN</td>\n",
       "      <td>NaN</td>\n",
       "      <td>42.24</td>\n",
       "      <td>24.28</td>\n",
       "      <td>100.0</td>\n",
       "    </tr>\n",
       "    <tr>\n",
       "      <th>4</th>\n",
       "      <td>108426</td>\n",
       "      <td>000001</td>\n",
       "      <td>2</td>\n",
       "      <td>2002-04-01</td>\n",
       "      <td>2002-06-30</td>\n",
       "      <td>1</td>\n",
       "      <td>账面金额</td>\n",
       "      <td>1650509848.5</td>\n",
       "      <td>1650509848.5</td>\n",
       "      <td>NaN</td>\n",
       "      <td>...</td>\n",
       "      <td>NaN</td>\n",
       "      <td>0.0</td>\n",
       "      <td>NaN</td>\n",
       "      <td>NaN</td>\n",
       "      <td>0.0</td>\n",
       "      <td>NaN</td>\n",
       "      <td>NaN</td>\n",
       "      <td>2057614892.54</td>\n",
       "      <td>-91406558.83</td>\n",
       "      <td>3738303585.51</td>\n",
       "    </tr>\n",
       "  </tbody>\n",
       "</table>\n",
       "<p>5 rows × 30 columns</p>\n",
       "</div>"
      ],
      "text/plain": [
       "   FundID MasterFundCode ReportTypeID   Startdate     EndDate CrossCode  \\\n",
       "0    基金ID          基金主代码     定期报告类别编码        开始日期        截止日期      横表编码   \n",
       "1    没有单位           没有单位         没有单位        没有单位        没有单位      没有单位   \n",
       "2  108426         000001            1  2002-01-01  2002-03-31         1   \n",
       "3  108426         000001            1  2002-01-01  2002-03-31         2   \n",
       "4  108426         000001            2  2002-04-01  2002-06-30         1   \n",
       "\n",
       "  CrossName         Equity    StockAmount CommonStock  ... InterimOption  \\\n",
       "0      横表名称          权益类投资         其中股票金额       其中普通股  ...          其中期权   \n",
       "1      没有单位           没有单位           没有单位        没有单位  ...          没有单位   \n",
       "2      账面金额  1051095862.11  1051095862.11         NaN  ...           NaN   \n",
       "3  占基金总资产比例           32.3           32.3         NaN  ...           NaN   \n",
       "4      账面金额   1650509848.5   1650509848.5         NaN  ...           NaN   \n",
       "\n",
       "  Warrant  Swap StructuredProduct BuyingBackTheSale        BuyoutRepo  \\\n",
       "0    其中权证  其中互换           结构性投资产品          买入返售金融资产  其中买断式回购的买入返售金融资产   \n",
       "1    没有单位  没有单位              没有单位              没有单位              没有单位   \n",
       "2     0.0   NaN               NaN               0.0               NaN   \n",
       "3     0.0   NaN               NaN               0.0               NaN   \n",
       "4     0.0   NaN               NaN               0.0               NaN   \n",
       "\n",
       "  MoneyMarketInstrument TotalDepositReserve   OthersAsset     TotalAsset  \n",
       "0                货币市场工具        银行存款和清算备付金合计      资产组合其他资产         资产组合合计  \n",
       "1                  没有单位                没有单位          没有单位           没有单位  \n",
       "2                   NaN       1374771332.72  790146488.18  3254342213.21  \n",
       "3                   NaN               42.24         24.28          100.0  \n",
       "4                   NaN       2057614892.54  -91406558.83  3738303585.51  \n",
       "\n",
       "[5 rows x 30 columns]"
      ]
     },
     "execution_count": 3,
     "metadata": {},
     "output_type": "execute_result"
    }
   ],
   "source": [
    "path3 = 'D:\\\\database\\\\fund\\\\fund_data\\基金投组\\资产配置文件223055153\\\\Fund_Allocation.xlsx'\n",
    "df3 = pd.read_excel(path3)\n",
    "df3.head()"
   ]
  },
  {
   "cell_type": "code",
   "execution_count": 20,
   "metadata": {},
   "outputs": [
    {
     "data": {
      "text/html": [
       "<div>\n",
       "<style scoped>\n",
       "    .dataframe tbody tr th:only-of-type {\n",
       "        vertical-align: middle;\n",
       "    }\n",
       "\n",
       "    .dataframe tbody tr th {\n",
       "        vertical-align: top;\n",
       "    }\n",
       "\n",
       "    .dataframe thead th {\n",
       "        text-align: right;\n",
       "    }\n",
       "</style>\n",
       "<table border=\"1\" class=\"dataframe\">\n",
       "  <thead>\n",
       "    <tr style=\"text-align: right;\">\n",
       "      <th></th>\n",
       "      <th>FundID</th>\n",
       "      <th>MasterFundCode</th>\n",
       "      <th>ReportTypeID</th>\n",
       "      <th>Startdate</th>\n",
       "      <th>EndDate</th>\n",
       "      <th>CrossCode</th>\n",
       "      <th>CrossName</th>\n",
       "      <th>Equity</th>\n",
       "      <th>StockAmount</th>\n",
       "      <th>CommonStock</th>\n",
       "      <th>...</th>\n",
       "      <th>InterimOption</th>\n",
       "      <th>Warrant</th>\n",
       "      <th>Swap</th>\n",
       "      <th>StructuredProduct</th>\n",
       "      <th>BuyingBackTheSale</th>\n",
       "      <th>BuyoutRepo</th>\n",
       "      <th>MoneyMarketInstrument</th>\n",
       "      <th>TotalDepositReserve</th>\n",
       "      <th>OthersAsset</th>\n",
       "      <th>TotalAsset</th>\n",
       "    </tr>\n",
       "  </thead>\n",
       "  <tbody>\n",
       "    <tr>\n",
       "      <th>178</th>\n",
       "      <td>108426</td>\n",
       "      <td>000001</td>\n",
       "      <td>6</td>\n",
       "      <td>2017-01-01</td>\n",
       "      <td>2017-12-31</td>\n",
       "      <td>1</td>\n",
       "      <td>账面金额</td>\n",
       "      <td>3635405254.65</td>\n",
       "      <td>3635405254.65</td>\n",
       "      <td>NaN</td>\n",
       "      <td>...</td>\n",
       "      <td>NaN</td>\n",
       "      <td>NaN</td>\n",
       "      <td>NaN</td>\n",
       "      <td>NaN</td>\n",
       "      <td>160983341.48</td>\n",
       "      <td>NaN</td>\n",
       "      <td>NaN</td>\n",
       "      <td>305776073.28</td>\n",
       "      <td>27850184.89</td>\n",
       "      <td>5209660867.7</td>\n",
       "    </tr>\n",
       "    <tr>\n",
       "      <th>179</th>\n",
       "      <td>108426</td>\n",
       "      <td>000001</td>\n",
       "      <td>6</td>\n",
       "      <td>2017-01-01</td>\n",
       "      <td>2017-12-31</td>\n",
       "      <td>2</td>\n",
       "      <td>占基金总资产比例</td>\n",
       "      <td>69.78</td>\n",
       "      <td>69.78</td>\n",
       "      <td>NaN</td>\n",
       "      <td>...</td>\n",
       "      <td>NaN</td>\n",
       "      <td>NaN</td>\n",
       "      <td>NaN</td>\n",
       "      <td>NaN</td>\n",
       "      <td>3.09</td>\n",
       "      <td>NaN</td>\n",
       "      <td>NaN</td>\n",
       "      <td>5.87</td>\n",
       "      <td>0.53</td>\n",
       "      <td>100.0</td>\n",
       "    </tr>\n",
       "    <tr>\n",
       "      <th>180</th>\n",
       "      <td>108426</td>\n",
       "      <td>000001</td>\n",
       "      <td>6</td>\n",
       "      <td>2017-01-01</td>\n",
       "      <td>2017-12-31</td>\n",
       "      <td>3</td>\n",
       "      <td>占基金资产净值比例</td>\n",
       "      <td>72.88</td>\n",
       "      <td>72.88</td>\n",
       "      <td>NaN</td>\n",
       "      <td>...</td>\n",
       "      <td>NaN</td>\n",
       "      <td>NaN</td>\n",
       "      <td>NaN</td>\n",
       "      <td>NaN</td>\n",
       "      <td>3.23</td>\n",
       "      <td>NaN</td>\n",
       "      <td>NaN</td>\n",
       "      <td>6.13</td>\n",
       "      <td>0.56</td>\n",
       "      <td>104.43</td>\n",
       "    </tr>\n",
       "  </tbody>\n",
       "</table>\n",
       "<p>3 rows × 30 columns</p>\n",
       "</div>"
      ],
      "text/plain": [
       "     FundID MasterFundCode ReportTypeID   Startdate     EndDate CrossCode  \\\n",
       "178  108426         000001            6  2017-01-01  2017-12-31         1   \n",
       "179  108426         000001            6  2017-01-01  2017-12-31         2   \n",
       "180  108426         000001            6  2017-01-01  2017-12-31         3   \n",
       "\n",
       "     CrossName         Equity    StockAmount CommonStock  ... InterimOption  \\\n",
       "178       账面金额  3635405254.65  3635405254.65         NaN  ...           NaN   \n",
       "179   占基金总资产比例          69.78          69.78         NaN  ...           NaN   \n",
       "180  占基金资产净值比例          72.88          72.88         NaN  ...           NaN   \n",
       "\n",
       "    Warrant Swap StructuredProduct BuyingBackTheSale BuyoutRepo  \\\n",
       "178     NaN  NaN               NaN      160983341.48        NaN   \n",
       "179     NaN  NaN               NaN              3.09        NaN   \n",
       "180     NaN  NaN               NaN              3.23        NaN   \n",
       "\n",
       "    MoneyMarketInstrument TotalDepositReserve  OthersAsset    TotalAsset  \n",
       "178                   NaN        305776073.28  27850184.89  5209660867.7  \n",
       "179                   NaN                5.87         0.53         100.0  \n",
       "180                   NaN                6.13         0.56        104.43  \n",
       "\n",
       "[3 rows x 30 columns]"
      ]
     },
     "execution_count": 20,
     "metadata": {},
     "output_type": "execute_result"
    }
   ],
   "source": [
    "data = df3[df3['MasterFundCode']=='000001']\n",
    "data = data[data['Startdate']=='2017-01-01']\n",
    "data = data[data['ReportTypeID']=='6']\n",
    "\n",
    "data"
   ]
  },
  {
   "cell_type": "code",
   "execution_count": 22,
   "metadata": {},
   "outputs": [
    {
     "data": {
      "text/plain": [
       "72.85"
      ]
     },
     "execution_count": 22,
     "metadata": {},
     "output_type": "execute_result"
    }
   ],
   "source": [
    "data1.Proportion.sum()"
   ]
  },
  {
   "cell_type": "markdown",
   "metadata": {},
   "source": [
    "## 基金日行情"
   ]
  },
  {
   "cell_type": "code",
   "execution_count": 30,
   "metadata": {},
   "outputs": [
    {
     "name": "stderr",
     "output_type": "stream",
     "text": [
      "c:\\Users\\ANTHONY\\anaconda3\\lib\\site-packages\\openpyxl\\styles\\stylesheet.py:226: UserWarning: Workbook contains no default style, apply openpyxl's default\n",
      "  warn(\"Workbook contains no default style, apply openpyxl's default\")\n"
     ]
    },
    {
     "data": {
      "text/html": [
       "<div>\n",
       "<style scoped>\n",
       "    .dataframe tbody tr th:only-of-type {\n",
       "        vertical-align: middle;\n",
       "    }\n",
       "\n",
       "    .dataframe tbody tr th {\n",
       "        vertical-align: top;\n",
       "    }\n",
       "\n",
       "    .dataframe thead th {\n",
       "        text-align: right;\n",
       "    }\n",
       "</style>\n",
       "<table border=\"1\" class=\"dataframe\">\n",
       "  <thead>\n",
       "    <tr style=\"text-align: right;\">\n",
       "      <th></th>\n",
       "      <th>FundClassID</th>\n",
       "      <th>TradingDate</th>\n",
       "      <th>Symbol</th>\n",
       "      <th>Filling</th>\n",
       "      <th>PreClosePrice</th>\n",
       "      <th>OpenPrice</th>\n",
       "      <th>ClosePrice</th>\n",
       "      <th>HighPrice</th>\n",
       "      <th>LowPrice</th>\n",
       "      <th>Volume</th>\n",
       "      <th>...</th>\n",
       "      <th>MinTickSize</th>\n",
       "      <th>Covert</th>\n",
       "      <th>CovertRate</th>\n",
       "      <th>LimitDown</th>\n",
       "      <th>LimitUp</th>\n",
       "      <th>MarketValue</th>\n",
       "      <th>ReturnDaily</th>\n",
       "      <th>SimpleReturnDaily</th>\n",
       "      <th>ComparablePrice</th>\n",
       "      <th>SimpleComparablePrice</th>\n",
       "    </tr>\n",
       "  </thead>\n",
       "  <tbody>\n",
       "  </tbody>\n",
       "</table>\n",
       "<p>0 rows × 30 columns</p>\n",
       "</div>"
      ],
      "text/plain": [
       "Empty DataFrame\n",
       "Columns: [FundClassID, TradingDate, Symbol, Filling, PreClosePrice, OpenPrice, ClosePrice, HighPrice, LowPrice, Volume, Amount, LatestClosePrice, latestTradingDate, Distance, StateCode, AvgPrice, Change, ChangeRatio, TurnoverRate, Amplitude, MinTickSize, Covert, CovertRate, LimitDown, LimitUp, MarketValue, ReturnDaily, SimpleReturnDaily, ComparablePrice, SimpleComparablePrice]\n",
       "Index: []\n",
       "\n",
       "[0 rows x 30 columns]"
      ]
     },
     "execution_count": 30,
     "metadata": {},
     "output_type": "execute_result"
    }
   ],
   "source": [
    "path2 = 'D:\\database\\\\fund\\\\fund_data\\\\基金行情\\\\基金历史日行情信息表165144484\\\\FUND_MKT_Quotation.xlsx'\n",
    "df2 = pd.read_excel(path2)\n",
    "data2 = df2[df2['Symbol']=='108426']\n",
    "data2.head()"
   ]
  },
  {
   "cell_type": "markdown",
   "metadata": {},
   "source": [
    "## fund performance"
   ]
  },
  {
   "cell_type": "code",
   "execution_count": 4,
   "metadata": {},
   "outputs": [
    {
     "name": "stderr",
     "output_type": "stream",
     "text": [
      "c:\\Users\\ANTHONY\\anaconda3\\lib\\site-packages\\openpyxl\\styles\\stylesheet.py:226: UserWarning: Workbook contains no default style, apply openpyxl's default\n",
      "  warn(\"Workbook contains no default style, apply openpyxl's default\")\n"
     ]
    },
    {
     "data": {
      "text/html": [
       "<div>\n",
       "<style scoped>\n",
       "    .dataframe tbody tr th:only-of-type {\n",
       "        vertical-align: middle;\n",
       "    }\n",
       "\n",
       "    .dataframe tbody tr th {\n",
       "        vertical-align: top;\n",
       "    }\n",
       "\n",
       "    .dataframe thead th {\n",
       "        text-align: right;\n",
       "    }\n",
       "</style>\n",
       "<table border=\"1\" class=\"dataframe\">\n",
       "  <thead>\n",
       "    <tr style=\"text-align: right;\">\n",
       "      <th></th>\n",
       "      <th>FundClassID</th>\n",
       "      <th>TradingDate</th>\n",
       "      <th>Symbol</th>\n",
       "      <th>NAV</th>\n",
       "      <th>AccumulativeNAV</th>\n",
       "      <th>AchieveReturn</th>\n",
       "      <th>MillionAchieveReturn</th>\n",
       "      <th>HundredAchieveReturn</th>\n",
       "      <th>AnnualizedYield</th>\n",
       "      <th>CurrencyCode</th>\n",
       "      <th>Currency</th>\n",
       "      <th>Frequency</th>\n",
       "      <th>MarketStatus</th>\n",
       "    </tr>\n",
       "  </thead>\n",
       "  <tbody>\n",
       "    <tr>\n",
       "      <th>0</th>\n",
       "      <td>基金份额类别ID</td>\n",
       "      <td>交易日期</td>\n",
       "      <td>基金代码</td>\n",
       "      <td>基金份额净值</td>\n",
       "      <td>基金份额累计净值</td>\n",
       "      <td>每万份基金已实现收益</td>\n",
       "      <td>每百万份基金已实现收益</td>\n",
       "      <td>每百份基金已实现收益</td>\n",
       "      <td>7日年化收益率(%)</td>\n",
       "      <td>货币编码</td>\n",
       "      <td>币种</td>\n",
       "      <td>频度属性</td>\n",
       "      <td>时间属性</td>\n",
       "    </tr>\n",
       "    <tr>\n",
       "      <th>1</th>\n",
       "      <td>没有单位</td>\n",
       "      <td>没有单位</td>\n",
       "      <td>没有单位</td>\n",
       "      <td>没有单位</td>\n",
       "      <td>没有单位</td>\n",
       "      <td>没有单位</td>\n",
       "      <td>没有单位</td>\n",
       "      <td>没有单位</td>\n",
       "      <td>没有单位</td>\n",
       "      <td>没有单位</td>\n",
       "      <td>没有单位</td>\n",
       "      <td>没有单位</td>\n",
       "      <td>没有单位</td>\n",
       "    </tr>\n",
       "    <tr>\n",
       "      <th>2</th>\n",
       "      <td>202000000001</td>\n",
       "      <td>2021-05-10</td>\n",
       "      <td>000001</td>\n",
       "      <td>1.344</td>\n",
       "      <td>3.855</td>\n",
       "      <td>NaN</td>\n",
       "      <td>NaN</td>\n",
       "      <td>NaN</td>\n",
       "      <td>NaN</td>\n",
       "      <td>CNY</td>\n",
       "      <td>人民币元</td>\n",
       "      <td>NaN</td>\n",
       "      <td>NaN</td>\n",
       "    </tr>\n",
       "    <tr>\n",
       "      <th>3</th>\n",
       "      <td>202000000001</td>\n",
       "      <td>2021-05-11</td>\n",
       "      <td>000001</td>\n",
       "      <td>1.362</td>\n",
       "      <td>3.873</td>\n",
       "      <td>NaN</td>\n",
       "      <td>NaN</td>\n",
       "      <td>NaN</td>\n",
       "      <td>NaN</td>\n",
       "      <td>CNY</td>\n",
       "      <td>人民币元</td>\n",
       "      <td>NaN</td>\n",
       "      <td>NaN</td>\n",
       "    </tr>\n",
       "    <tr>\n",
       "      <th>4</th>\n",
       "      <td>202000000001</td>\n",
       "      <td>2021-05-12</td>\n",
       "      <td>000001</td>\n",
       "      <td>1.38</td>\n",
       "      <td>3.891</td>\n",
       "      <td>NaN</td>\n",
       "      <td>NaN</td>\n",
       "      <td>NaN</td>\n",
       "      <td>NaN</td>\n",
       "      <td>CNY</td>\n",
       "      <td>人民币元</td>\n",
       "      <td>NaN</td>\n",
       "      <td>NaN</td>\n",
       "    </tr>\n",
       "  </tbody>\n",
       "</table>\n",
       "</div>"
      ],
      "text/plain": [
       "    FundClassID TradingDate  Symbol     NAV AccumulativeNAV AchieveReturn  \\\n",
       "0      基金份额类别ID        交易日期    基金代码  基金份额净值        基金份额累计净值    每万份基金已实现收益   \n",
       "1          没有单位        没有单位    没有单位    没有单位            没有单位          没有单位   \n",
       "2  202000000001  2021-05-10  000001   1.344           3.855           NaN   \n",
       "3  202000000001  2021-05-11  000001   1.362           3.873           NaN   \n",
       "4  202000000001  2021-05-12  000001    1.38           3.891           NaN   \n",
       "\n",
       "  MillionAchieveReturn HundredAchieveReturn AnnualizedYield CurrencyCode  \\\n",
       "0          每百万份基金已实现收益           每百份基金已实现收益      7日年化收益率(%)         货币编码   \n",
       "1                 没有单位                 没有单位            没有单位         没有单位   \n",
       "2                  NaN                  NaN             NaN          CNY   \n",
       "3                  NaN                  NaN             NaN          CNY   \n",
       "4                  NaN                  NaN             NaN          CNY   \n",
       "\n",
       "  Currency Frequency MarketStatus  \n",
       "0       币种      频度属性         时间属性  \n",
       "1     没有单位      没有单位         没有单位  \n",
       "2     人民币元       NaN          NaN  \n",
       "3     人民币元       NaN          NaN  \n",
       "4     人民币元       NaN          NaN  "
      ]
     },
     "execution_count": 4,
     "metadata": {},
     "output_type": "execute_result"
    }
   ],
   "source": [
    "path4 = 'D:\\database\\\\fund\\\\fund_data\\基金表现\\基金日净值文件164817369\\\\Fund_NAV.xlsx'\n",
    "df2 = pd.read_excel(path4)\n",
    "df2.head()"
   ]
  },
  {
   "cell_type": "code",
   "execution_count": 5,
   "metadata": {},
   "outputs": [],
   "source": [
    "data3 = df2[df2['Symbol']=='000001']\n",
    "drawing = data3[['TradingDate','AccumulativeNAV']]"
   ]
  },
  {
   "cell_type": "code",
   "execution_count": 7,
   "metadata": {},
   "outputs": [
    {
     "name": "stderr",
     "output_type": "stream",
     "text": [
      "C:\\Users\\ANTHONY\\AppData\\Local\\Temp/ipykernel_19112/2878466901.py:1: SettingWithCopyWarning: \n",
      "A value is trying to be set on a copy of a slice from a DataFrame.\n",
      "Try using .loc[row_indexer,col_indexer] = value instead\n",
      "\n",
      "See the caveats in the documentation: https://pandas.pydata.org/pandas-docs/stable/user_guide/indexing.html#returning-a-view-versus-a-copy\n",
      "  drawing['TradingDate'] = pd.to_datetime(drawing['TradingDate'])\n"
     ]
    }
   ],
   "source": [
    "drawing['TradingDate'] = pd.to_datetime(drawing['TradingDate'])\n",
    "drawing.set_index('TradingDate',inplace=True)\n",
    "drawing.sort_index(inplace=True)"
   ]
  },
  {
   "cell_type": "code",
   "execution_count": 9,
   "metadata": {},
   "outputs": [
    {
     "data": {
      "text/plain": [
       "<AxesSubplot:xlabel='TradingDate'>"
      ]
     },
     "execution_count": 9,
     "metadata": {},
     "output_type": "execute_result"
    },
    {
     "data": {
      "image/png": "[encoded data removed]",
      "text/plain": [
       "<Figure size 432x288 with 1 Axes>"
      ]
     },
     "metadata": {
      "needs_background": "light"
     },
     "output_type": "display_data"
    }
   ],
   "source": [
    "drawing.plot()"
   ]
  },
  {
   "cell_type": "code",
   "execution_count": null,
   "metadata": {},
   "outputs": [],
   "source": []
  }
 ],
 "metadata": {
  "interpreter": {
   "hash": "fd98765cc22f2191cf28a745879465676945dde8194570cb64e113638bc356ed"
  },
  "kernelspec": {
   "display_name": "Python 3.9.7 ('base')",
   "language": "python",
   "name": "python3"
  },
  "language_info": {
   "codemirror_mode": {
    "name": "ipython",
    "version": 3
   },
   "file_extension": ".py",
   "mimetype": "text/x-python",
   "name": "python",
   "nbconvert_exporter": "python",
   "pygments_lexer": "ipython3",
   "version": "3.9.7"
  },
  "orig_nbformat": 4
 },
 "nbformat": 4,
 "nbformat_minor": 2
}
